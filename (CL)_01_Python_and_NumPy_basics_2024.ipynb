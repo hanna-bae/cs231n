{
  "cells": [
    {
      "cell_type": "markdown",
      "metadata": {
        "id": "view-in-github",
        "colab_type": "text"
      },
      "source": [
        "<a href=\"https://colab.research.google.com/github/hanna-bae/self-study-ai/blob/main/(CL)_01_Python_and_NumPy_basics_2024.ipynb\" target=\"_parent\"><img src=\"https://colab.research.google.com/assets/colab-badge.svg\" alt=\"Open In Colab\"/></a>"
      ]
    },
    {
      "cell_type": "markdown",
      "metadata": {
        "id": "7SLb6SnmEYBV"
      },
      "source": [
        "# Coding Lecture 01: Python and Numpy basics\n",
        "Deep Learning, RT5101, 2024, Spring, (Tue/Thurs 2:30~3:45)\n",
        "***\n",
        "\n",
        "## Syllabus\n",
        "- This course is for students who do not have prior knowledge of deep learning. It covers basic math tools, artificial neural network, multilayered perceptrons, backpropagation, deep convolutional neural network. The algorithms are applied to linear regression and image classification.\n",
        "- Textbook: Deep Learning Book by Ian Goodfellow, Yoshua Bengio and Aaron Courville\n",
        "\n",
        "\n",
        "\n",
        "## Teaching Staff\n",
        "- Professor: Kyoobin Lee (kyoobinlee@gist.ac.kr)\n",
        "- TA: 고민환 ([mhko1998@gm.gist.ac.kr](mailto:mhko1998@gm.gist.ac.kr))\n",
        "- TA:이준석 ([junseoklee@gm.gist.ac.kr](mailto:junseoklee@gm.gist.ac.kr))\n",
        "- TA:이건협 ([lghjayly@gm.gist.ac.kr](mailto:lghjayly@gm.gist.ac.kr))\n",
        "- TA:김태리 ([smterry0928@gm.gist.ac.kr](mailto:smterry0928@gm.gist.ac.kr))\n",
        "- TA:맹제모 ([maengjemo@gm.gist.ac.kr](mailto:maengjemo@gm.gist.ac.kr))\n",
        "- TA:이상범 ([saturnbeom@gm.gist.ac.kr](mailto:saturnbeom@gm.gist.ac.kr))\n",
        "\n",
        "\n",
        "## Link\n",
        "- Notion: https://www.notion.so/gistailab/Deep-Learning-2024-90ff32fa8c4346ffbb47ef2fc9d0df67\n",
        "- Google Drive: https://drive.google.com/drive/folders/13hCR5hUyTfmVD1LtMFEA8G8s3sMGkSN6\n",
        "- Hands on Deep Learning: https://gist.edwith.org/hands-on-deep-learning-01\n",
        "\n",
        "### References\n",
        "\n",
        "- https://docs.python.org/3/tutorial/\n",
        "- https://medium.com/@tuewithmorris/google-colab-notebooks-keyboard-shortcuts-aa6a008fb91b\n",
        "- https://github.com/savankoradiya/Google-Colab-Tutorial\n",
        "- https://medium.com/the-renaissance-developer/learning-python-from-zero-to-hero-8ceed48486d5\n",
        "- https://github.com/manujeevanprakash/Python-and-Numpy-Basics"
      ]
    },
    {
      "cell_type": "markdown",
      "metadata": {
        "id": "mRAXlUKpv3y5"
      },
      "source": [
        "# **[Step 1]**"
      ]
    },
    {
      "cell_type": "markdown",
      "metadata": {
        "id": "53SCa1ToJlqA"
      },
      "source": [
        "## Install Colab\n",
        "***\n",
        "1. Go to Google Drive(https://drive.google.com)\n",
        "2. Press \"신규\"(New) -> \"더보기\"(more) -> \"연결할 앱 더보기\"(Connect more apps)\n",
        "![더보기](https://theorydb.github.io/assets/img/dev/ml/2019-08-23-dev-ml-colab-3.jpg)\n",
        "3. Search \"Colab\" and install\n",
        "![검색](https://theorydb.github.io/assets/img/dev/ml/2019-08-23-dev-ml-colab-4.jpg)\n",
        "4. Go back to your Google Drive and Press  \"신규\"(Add) -> \"더보기\"(more) -> \"Google Colaboratory\"\n",
        "5. Now you have a new empty colab notebook.\n",
        "\n",
        "Image Reference: https://theorydb.github.io/dev/2019/08/23/dev-ml-colab/"
      ]
    },
    {
      "cell_type": "markdown",
      "metadata": {
        "id": "i3FSW837tk0R"
      },
      "source": [
        "## About Google Drive\n",
        "***\n",
        "\n",
        "# **You need to add a shortcut to drive to use sharred google drive in colab.**\n",
        "\n",
        "Google Drive -> Sharred with me(공유 문서함) -> Right click on \"Coding Lecture\" -> Organize -> add shortcut to drive(드라이브에 바로가기 추가)\n",
        "\n",
        "\n",
        "\n",
        "**You can use coding lecture file(.ipynb) by make a copy**\n",
        "\n",
        "- Google Drive Link: https://drive.google.com/drive/folders/1cHhEvSnXdzqBJ3l9t-wmC1sLa3fbZKz2\n",
        "\n",
        "\n",
        "\n"
      ]
    },
    {
      "cell_type": "markdown",
      "metadata": {
        "id": "-juhrza9-1Vv"
      },
      "source": [
        "## About Google Colab\n",
        "***\n",
        "- Free research and education tool for machine learning\n",
        "- Jupyter Notebook + Google Drive\n",
        "- Link: https://colab.research.google.com/\n",
        "\n",
        "- You can run and test your python code and deep learning models in cloud\n",
        "- You can use maximum 12 hours per day (GPU)  \n",
        "[GPU setup method]: **Runtime -> Change runtime type -> H/W accelerator (GPU)**\n",
        "\n",
        "\n",
        "![runtime_type](https://predictivehacks.com/wp-content/uploads/2022/06/image.png)"
      ]
    },
    {
      "cell_type": "markdown",
      "metadata": {
        "id": "HmrWISyGClJp"
      },
      "source": [
        "## Start Colab\n",
        "***"
      ]
    },
    {
      "cell_type": "markdown",
      "metadata": {
        "id": "W_3E4_-IfPzS"
      },
      "source": [
        "###  Basic usage of Colab\n",
        "- Press \"Play button\" on the left of block or \"Shift + Enter\" to execute the code block\n",
        "- Add \"!\" in front of command to use Linux shell commands\n",
        "- Point the top center of the block to add new code block or markdown block"
      ]
    },
    {
      "cell_type": "markdown",
      "metadata": {
        "id": "3rQDhi9FxAvx"
      },
      "source": [
        "### check OS version\n"
      ]
    },
    {
      "cell_type": "code",
      "execution_count": null,
      "metadata": {
        "id": "NPh4VPQownlr"
      },
      "outputs": [],
      "source": [
        "!cat /etc/issue.net # ! = linux shell commands"
      ]
    },
    {
      "cell_type": "markdown",
      "metadata": {
        "id": "AgO1gUEGxVxD"
      },
      "source": [
        "\n",
        "### check CPU\n"
      ]
    },
    {
      "cell_type": "code",
      "execution_count": null,
      "metadata": {
        "id": "Za7YcfuvwxIj"
      },
      "outputs": [],
      "source": [
        "!cat /proc/cpuinfo"
      ]
    },
    {
      "cell_type": "markdown",
      "metadata": {
        "id": "F6zrqa_AxQ5I"
      },
      "source": [
        "### check GPU status\n"
      ]
    },
    {
      "cell_type": "code",
      "execution_count": null,
      "metadata": {
        "id": "R_zKeGnhwxEQ"
      },
      "outputs": [],
      "source": [
        "!nvidia-smi"
      ]
    },
    {
      "cell_type": "markdown",
      "metadata": {
        "id": "4O9EM-2xxOsn"
      },
      "source": [
        "\n",
        "    \n",
        "### check RAM\n",
        "\n",
        "\n",
        "\n",
        "\n"
      ]
    },
    {
      "cell_type": "code",
      "execution_count": null,
      "metadata": {
        "id": "hZWukhcPww-V"
      },
      "outputs": [],
      "source": [
        "!cat /proc/meminfo"
      ]
    },
    {
      "cell_type": "markdown",
      "metadata": {
        "id": "hCSXKPFPxuCC"
      },
      "source": [
        "\n",
        "### check file system and storage\n"
      ]
    },
    {
      "cell_type": "code",
      "execution_count": null,
      "metadata": {
        "id": "rl0ToKqzww2z"
      },
      "outputs": [],
      "source": [
        "!df -h"
      ]
    },
    {
      "cell_type": "markdown",
      "metadata": {
        "id": "7Vd7TABtC7Xy"
      },
      "source": [
        "## Google Drive\n",
        "***\n",
        "\n",
        "- All notes will be saved in google drive\n",
        "- load and run your code in google colab\n",
        "\n"
      ]
    },
    {
      "cell_type": "markdown",
      "metadata": {
        "id": "EZsCcB_3J-TG"
      },
      "source": [
        "### Mount your Google Drive"
      ]
    },
    {
      "cell_type": "code",
      "execution_count": null,
      "metadata": {
        "id": "VuBSmgW2mTOv"
      },
      "outputs": [],
      "source": [
        "from google.colab import drive\n",
        "drive.mount('/content/gdrive/')"
      ]
    },
    {
      "cell_type": "markdown",
      "metadata": {
        "id": "o53i5wysmdkn"
      },
      "source": [
        "### Check your Folder"
      ]
    },
    {
      "cell_type": "code",
      "execution_count": null,
      "metadata": {
        "id": "0UdPn2t710Qx"
      },
      "outputs": [],
      "source": [
        "!ls /content/gdrive/MyDrive/For_Student/CodingLecture"
      ]
    },
    {
      "cell_type": "code",
      "execution_count": null,
      "metadata": {
        "id": "o7ZC18SRZ5xt"
      },
      "outputs": [],
      "source": [
        "%cd /content\n",
        "!ls\n",
        "\n",
        "%cd gdrive\n",
        "!ls\n",
        "\n",
        "%cd MyDrive\n",
        "!ls\n"
      ]
    },
    {
      "cell_type": "markdown",
      "metadata": {
        "id": "JSmGSLBdmWaf"
      },
      "source": [
        "### Upload your Files"
      ]
    },
    {
      "cell_type": "code",
      "execution_count": null,
      "metadata": {
        "id": "oeGeFQ0Btb7X"
      },
      "outputs": [],
      "source": [
        "print('Prints the names of files and folders / path in the current directory')\n",
        "# initialize\n",
        "%cd /content\n",
        "!ls     # Prints the names of files and folders in the current directory\n",
        "!pwd    # Prints the path of the current directory\n",
        "\n",
        "# chang pwd by %cd(not !cd)\n",
        "print('\\n Use !cd to move directory')\n",
        "# initialize\n",
        "%cd /content\n",
        "%cd /content/gdrive/MyDrive/For_Student/CodingLecture/03.14.CodingLecture01\n",
        "!pwd\n",
        "\n",
        "# chang pwd by os.chdir\n",
        "print('\\n Use os.chdir to move directory')\n",
        "# initialize\n",
        "%cd /content\n",
        "import os\n",
        "os.chdir('/content/gdrive/MyDrive/For_Student/CodingLecture/03.14.CodingLecture01')\n",
        "!pwd"
      ]
    },
    {
      "cell_type": "code",
      "execution_count": null,
      "metadata": {
        "id": "t0wVT_swmWxX"
      },
      "outputs": [],
      "source": [
        "# make YOUR_NAME.txt file in your desktop before run\n",
        "import os\n",
        "print('upload {YOUR_NAME}.txt file')\n",
        "os.chdir('/content/gdrive/MyDrive/For_Student/CodingLecture/03.14.CodingLecture01/txt_upload')\n",
        "from google.colab import files\n",
        "uploaded = files.upload()\n"
      ]
    },
    {
      "cell_type": "markdown",
      "metadata": {
        "id": "mKdiLqoGtVU6"
      },
      "source": [
        "### Download your Files"
      ]
    },
    {
      "cell_type": "code",
      "execution_count": null,
      "metadata": {
        "id": "e6n4SRfhngg3"
      },
      "outputs": [],
      "source": [
        "from google.colab import files\n",
        "# files.download('/content/gdrive/MyDrive/For_Student/CodingLecture/03.14.CodingLecture01/txt_upload/{YOUR_NAME}.txt')\n",
        "files.download('/content/gdrive/MyDrive/For_Student/CodingLecture/03.14.CodingLecture01/txt_upload/maengjemo.txt')"
      ]
    },
    {
      "cell_type": "markdown",
      "metadata": {
        "id": "vZOcC_eL8yCA"
      },
      "source": [
        "# **[Step 2]**"
      ]
    },
    {
      "cell_type": "markdown",
      "metadata": {
        "id": "3vvtIN_UCEzY"
      },
      "source": [
        "## Python Basic\n",
        "\n",
        "### What is Python?\n",
        "\n",
        "- easy to learn, but powerful programming language\n",
        "- interpreted, high-level, general-purpose programming laungage\n",
        "- available for many OS, non-profit\n",
        "- the extensive library are freely available (tensorflow, pytorch, numpy, matplotlib, pandas...)\n",
        "\n",
        "-If you want to learn more about python,\n",
        "- https://wikidocs.net/book/1   (Korean)\n",
        "- https://docs.python.org/3/tutorial/  (Official tutorial)\n",
        "- https://www.w3schools.com/python/python_datatypes.asp\n",
        "- https://www.sololearn.com/home"
      ]
    },
    {
      "cell_type": "markdown",
      "metadata": {
        "id": "kEllFTuqjXay"
      },
      "source": [
        "### Import, As and From\n",
        "\n",
        "\n",
        "---\n",
        "\n",
        "\n",
        "- Import:\n",
        "\n",
        "  A command that allows you to use an already created Python program file, a file in a library, etc.\n",
        "\n",
        "\n",
        "```\n",
        "import numpy\n",
        "A = numpy.array()\n",
        "```\n",
        "> That means will use functions named 'array' in a file or library called 'numpy'\n",
        "\n",
        "\n",
        "\n",
        "\n",
        "\n",
        "---\n",
        "\n",
        "\n",
        "\n",
        "\n",
        "- As:\n",
        "\n",
        "  You can change the name of the file or library you are currently using.\n",
        "\n",
        "\n",
        "\n",
        "```\n",
        "import numpy as np\n",
        "A = np.array()\n",
        "```\n",
        "\n",
        "> That means will use 'numpy' as named 'np'.  \n",
        "\n",
        "\n",
        "---\n",
        "- From:\n",
        "\n",
        "  This is a method to import only some of the functions in a file or library.\n",
        "\n",
        "\n",
        "\n",
        "```\n",
        "from numpy import array\n",
        "A = array()\n",
        "```\n",
        "\n",
        "> That means will use function 'array' in 'numpy'\n",
        "\n",
        "\n"
      ]
    },
    {
      "cell_type": "markdown",
      "metadata": {
        "id": "l8NciQdJj28y"
      },
      "source": [
        "### Print"
      ]
    },
    {
      "cell_type": "code",
      "execution_count": null,
      "metadata": {
        "id": "MxPKhcvwCIqd",
        "colab": {
          "base_uri": "https://localhost:8080/"
        },
        "outputId": "d8116505-30b4-402a-90d4-d9c051f279be"
      },
      "outputs": [
        {
          "output_type": "stream",
          "name": "stdout",
          "text": [
            "Hello World!\n"
          ]
        }
      ],
      "source": [
        "print(\"Hello World!\")"
      ]
    },
    {
      "cell_type": "code",
      "execution_count": null,
      "metadata": {
        "id": "mf2rtPq9KtmS"
      },
      "outputs": [],
      "source": [
        "sentence = \"Hello World\"\n",
        "\n",
        "print(\"I want to say <{}>\".format(sentence))    # format\n",
        "print(f\"I want to say <{sentence}>\")            # f-string"
      ]
    },
    {
      "cell_type": "markdown",
      "metadata": {
        "id": "oBM79VLfBwMK"
      },
      "source": [
        "### Variables"
      ]
    },
    {
      "cell_type": "code",
      "execution_count": null,
      "metadata": {
        "id": "DaT6POTjB33C"
      },
      "outputs": [],
      "source": [
        "print(type(2 + 2))"
      ]
    },
    {
      "cell_type": "code",
      "execution_count": null,
      "metadata": {
        "id": "v8FAJJhzB6hZ"
      },
      "outputs": [],
      "source": [
        "70 - 5*10"
      ]
    },
    {
      "cell_type": "code",
      "execution_count": null,
      "metadata": {
        "id": "44Rzc6SWB6qx"
      },
      "outputs": [],
      "source": [
        "10/3 # division always returns a floating point number"
      ]
    },
    {
      "cell_type": "code",
      "execution_count": null,
      "metadata": {
        "id": "scH76lBQB6wB"
      },
      "outputs": [],
      "source": [
        "print(type(2+2), type(9/3)) # no need to assign type of variables"
      ]
    },
    {
      "cell_type": "code",
      "execution_count": null,
      "metadata": {
        "id": "Kl8DUCW1Ccqe"
      },
      "outputs": [],
      "source": [
        "a = 100 # assign value '100' to variable 'a'\n",
        "b = 2 # assign value '2' to variable 'b'\n",
        "print(a*b)"
      ]
    },
    {
      "cell_type": "code",
      "execution_count": null,
      "metadata": {
        "id": "h8XaYhOHB61R"
      },
      "outputs": [],
      "source": [
        "lecture = 'deep learning' # string -> str\n",
        "print(type(lecture))\n",
        "\n",
        "is_fun = True # boolean -> bool\n",
        "is_hard = False # boolean\n",
        "print(type(is_fun))\n",
        "\n",
        "print(\"This is \", lecture, \" class.\")"
      ]
    },
    {
      "cell_type": "markdown",
      "source": [
        "### List\n",
        "- Lists are used to store multiple items in a single variable."
      ],
      "metadata": {
        "id": "q1Jdv80In92j"
      }
    },
    {
      "cell_type": "code",
      "execution_count": null,
      "metadata": {
        "id": "psr31d6OFp1o"
      },
      "outputs": [],
      "source": [
        "integers = [7, 2, 5, 6, 4]\n",
        "# 0, 1, 2, 3, 4 / -5, -4, -3, -2, -1\n",
        "print(integers, '\\n')\n",
        "\n",
        "# list indexing\n",
        "print(integers[0])\n",
        "print(integers[-1])\n",
        "integers[0] = 8\n",
        "print(integers, '\\n')\n",
        "\n",
        "# list slicing\n",
        "print(integers[:2]) # [0:2]\n",
        "print(integers[2:-1]) # [2:4]\n",
        "integers[1:-2] = [10, 11]\n",
        "print(integers)"
      ]
    },
    {
      "cell_type": "code",
      "execution_count": null,
      "metadata": {
        "id": "H0JvudHt3i1l"
      },
      "outputs": [],
      "source": [
        "integers.append(0)\n",
        "print(integers)\n",
        "\n",
        "integers.sort()\n",
        "print(integers)\n",
        "\n",
        "integers.reverse()\n",
        "print(integers)\n",
        "\n",
        "integers.remove(0)\n",
        "print(integers)"
      ]
    },
    {
      "cell_type": "markdown",
      "metadata": {
        "id": "1lgkHZg2FgnY"
      },
      "source": [
        "### Control Flow (if, for, while)"
      ]
    },
    {
      "cell_type": "code",
      "execution_count": null,
      "metadata": {
        "colab": {
          "base_uri": "https://localhost:8080/"
        },
        "id": "or7LPxQuB66L",
        "outputId": "cbe59bca-83bf-4d86-e906-acc686c61d15"
      },
      "outputs": [
        {
          "output_type": "stream",
          "name": "stdout",
          "text": [
            "deep learning  is fun!\n"
          ]
        }
      ],
      "source": [
        "is_fun = True\n",
        "\n",
        "if is_fun is True:\n",
        "  print(lecture, \" is fun!\") # tab, or 4 spaces\n",
        "elif is_fun == False :\n",
        "  print(lecture, \"is boring\")\n",
        "else:\n",
        "  print(\"wrong input!!!!\")"
      ]
    },
    {
      "cell_type": "code",
      "execution_count": null,
      "metadata": {
        "colab": {
          "base_uri": "https://localhost:8080/"
        },
        "id": "4OJ2xRA4Qck1",
        "outputId": "17c77e74-fe20-4c4f-bf8f-6bc18ce3696f"
      },
      "outputs": [
        {
          "output_type": "stream",
          "name": "stdout",
          "text": [
            "deep learning is boring\n"
          ]
        }
      ],
      "source": [
        "is_fun = False\n",
        "\n",
        "if is_fun is True:\n",
        "  print(lecture, \" is fun!\") # tab, or 4 spaces\n",
        "elif is_fun == False :\n",
        "  print(lecture, \"is boring\")\n",
        "else:\n",
        "  print(\"wrong input!!!!\")"
      ]
    },
    {
      "cell_type": "code",
      "execution_count": null,
      "metadata": {
        "id": "raqm0p9CQfKy"
      },
      "outputs": [],
      "source": [
        "is_fun = 3000\n",
        "\n",
        "if is_fun is True:\n",
        "  print(lecture, \" is fun!\") # tab, or 4 spaces\n",
        "elif is_fun == False :\n",
        "  print(lecture, \"is boring\")\n",
        "else:\n",
        "  print(\"wrong input!!!!\")"
      ]
    },
    {
      "cell_type": "code",
      "execution_count": null,
      "metadata": {
        "id": "hXcwwbSvndMw"
      },
      "outputs": [],
      "source": [
        "var_exist = 1234\n",
        "\n",
        "if var_exist:\n",
        "    print(f'var_exist: {var_exist}')\n",
        "else:\n",
        "    print(\"There is no 'var_exist'\")\n"
      ]
    },
    {
      "cell_type": "code",
      "execution_count": null,
      "metadata": {
        "id": "3eFqitpZn-W_"
      },
      "outputs": [],
      "source": [
        "try:\n",
        "    print(f'var: {var}')\n",
        "except:\n",
        "    print(\"There is no 'var'\")\n"
      ]
    },
    {
      "cell_type": "code",
      "execution_count": null,
      "metadata": {
        "id": "aWzTt1mNB6_p"
      },
      "outputs": [],
      "source": [
        "i = 0\n",
        "while i <= 5:  # while loop is executed until 'i <= 5' is not True\n",
        "  print(i)\n",
        "  i = i + 1    # i += 1"
      ]
    },
    {
      "cell_type": "code",
      "execution_count": null,
      "metadata": {
        "id": "OJkQJ4LxuOh7"
      },
      "outputs": [],
      "source": [
        "j = 0\n",
        "while 1:\n",
        "  # 1 = True\n",
        "  j += 1 # j = j + 1\n",
        "  if j == 5:\n",
        "    continue\n",
        "  elif j == 10:\n",
        "    break\n",
        "  print(j)"
      ]
    },
    {
      "cell_type": "code",
      "execution_count": null,
      "metadata": {
        "id": "W6v9lmx4F2R4"
      },
      "outputs": [],
      "source": [
        "for i in range(5): # i = 0~4\n",
        "  if i == 4:\n",
        "    print(\"i is 4. exit loop\")\n",
        "  print(i)\n",
        "\n",
        "# range(5) = [0, 1, 2, 3, 4]\n",
        "print(f'range(5): {range(5)}')"
      ]
    },
    {
      "cell_type": "markdown",
      "metadata": {
        "id": "FqVAAIE2Hp43"
      },
      "source": [
        "### Looping through Data Structures"
      ]
    },
    {
      "cell_type": "code",
      "execution_count": null,
      "metadata": {
        "id": "evJSNlhvHi9A"
      },
      "outputs": [],
      "source": [
        "integers = [7, 2, 5, 6, 4]\n",
        "for integer in integers: # for integer in [7, 2, 5, 6, 4]:\n",
        "    print(integer)\n",
        "\n",
        "print('=========================')\n",
        "\n",
        "strings = ['apple', 'banana', '샤브샤브']\n",
        "for string in strings:\n",
        "    print(string)"
      ]
    },
    {
      "cell_type": "markdown",
      "metadata": {
        "id": "Zx2R42taPUy3"
      },
      "source": [
        "### Dictionary\n",
        "- Dictionaries are used to store data values in key:value pairs.\n"
      ]
    },
    {
      "cell_type": "code",
      "execution_count": null,
      "metadata": {
        "id": "lMZnYg65NJVB"
      },
      "outputs": [],
      "source": [
        "dictionary = {}\n",
        "print(type(dictionary))"
      ]
    },
    {
      "cell_type": "code",
      "execution_count": null,
      "metadata": {
        "id": "CoZUUO09NUSr"
      },
      "outputs": [],
      "source": [
        "dictionary = {'name': 'YOUR_NAME', 'student_id': 'YOUR_ID'}\n",
        "# key: name, student_id / Value: YOUR_NAME, YOUR_ID\n",
        "\n",
        "# To access value, have to use key\n",
        "print(dictionary)\n",
        "print(f\"name: {dictionary['name']}, student_id: {dictionary['student_id']}\")"
      ]
    },
    {
      "cell_type": "code",
      "execution_count": null,
      "metadata": {
        "id": "2gXOk8_YthHd"
      },
      "outputs": [],
      "source": [
        "dictionary['name'] = 'JemoMaeng'\n",
        "dictionary['student_id'] = '20232062'\n",
        "dictionary"
      ]
    },
    {
      "cell_type": "code",
      "execution_count": null,
      "metadata": {
        "id": "C83uInuEtvE8"
      },
      "outputs": [],
      "source": [
        "dictionary['department'] = 'School of Integrated Technology'\n",
        "dictionary"
      ]
    },
    {
      "cell_type": "code",
      "execution_count": null,
      "metadata": {
        "id": "rX7CRjC-t5BA"
      },
      "outputs": [],
      "source": [
        "another_dictionary = {}\n",
        "another_dictionary = dict(department='School of Integrated Technology', name='SeonghoBak', student_id='20192015')\n",
        "another_dictionary"
      ]
    },
    {
      "cell_type": "markdown",
      "metadata": {
        "id": "rmwVnoYKMMA3"
      },
      "source": [
        "## [Coding Yourself]\n",
        "You want to eat icecream.\n",
        "\n",
        "When you open the door of refrigerator,\n",
        "\n",
        "- if there is no icecream : unhappy\n",
        "- if there is one icecream : happy\n",
        "- if there is two~eight icecream : veryhappy\n",
        "- if there is nine icecream : exellent\n",
        "\n",
        "make empty list with name 'emotion'\n",
        "\n",
        "1. Make a list(emotions) of emotions according to the number of ice creams.(use append)\n",
        "\n",
        "    - hint: [unhappy, happy, happy, ...]\n",
        "\n",
        "\n",
        "2. You are faddist(변덕쟁이), edit list according to following condition.(use indexing or slising)\n",
        "  - if there is no icecream : unhappy\n",
        "  - if there is one icecream : happy\n",
        "  - two~five icecream : veryhappy\n",
        "  - six~nine icecream : exellent\n",
        "\n",
        "\n",
        "3. 'num' is the number of icecream in refrigerator. The number of icecream is nine when the first day. You eat one icecream a day.\n",
        "    - Use control flow(for) then print out your emotions as the day goes by except when you 'unhappy'."
      ]
    },
    {
      "cell_type": "code",
      "execution_count": null,
      "metadata": {
        "id": "QaVzlZChSKt4"
      },
      "outputs": [],
      "source": [
        "# 1\n",
        "emotions = [] # length will be 10\n",
        "\n",
        "\n",
        "\n",
        "\n",
        "\n",
        "\n",
        "\n",
        "\n",
        "\n",
        "\n",
        "print(emotions)\n",
        "\n",
        "# 2\n",
        "                             #six~nine icecream : exellent\n",
        "print(emotions)\n",
        "\n",
        "# 3\n",
        "num = 9 # initial condition  / print out your emotions as the day goes by except when you 'unhappy'.\n",
        "\n",
        "\n"
      ]
    },
    {
      "cell_type": "markdown",
      "metadata": {
        "id": "xP75hkw381aw"
      },
      "source": [
        "# **[Step 3]**"
      ]
    },
    {
      "cell_type": "markdown",
      "metadata": {
        "id": "26vobw43txZF"
      },
      "source": [
        "## Tensor Basic\n",
        "\n",
        "### What is Tensor?\n",
        "\n",
        "A very mathematical concept, it is an array of data.\n",
        "\n",
        "- rank: It means 'what dimension of an array'\n",
        "- shape: How many elements each axis consists of\n",
        "- type: Data type of tensor\n",
        "\n",
        "Example)  \n",
        "`A = [[[[4.6, 1.3], [7.5, 4.5]], [[1.1, 1.9], [9.9, 6.7]]]]`\n",
        "\n",
        "rank = `4`, shape = `(1, 2, 2, 2)`, dtype = `Float`"
      ]
    },
    {
      "cell_type": "code",
      "execution_count": null,
      "metadata": {
        "id": "2eSozJ7F_fh6"
      },
      "outputs": [],
      "source": [
        "import torch\n",
        "t = torch.tensor([[[[4.6, 1.3], [7.5, 4.5]], [[1.1, 1.9], [9.9, 6.7]]]])\n",
        "\n",
        "tensor_rank = t.ndim\n",
        "print(tensor_rank)\n",
        "tensor_shape = t.shape\n",
        "print(tensor_shape)\n",
        "type_ = t.dtype\n",
        "print(type_)"
      ]
    },
    {
      "cell_type": "markdown",
      "metadata": {
        "id": "RaALK-t5DA_k"
      },
      "source": [
        "## Numpy Basic\n",
        "\n",
        "### What is numpy?\n",
        "\n",
        "NumPy is the fundamental package for scientific computing with Python.\n",
        "\n",
        "- a powerful N-dimensional array object\n",
        "- sophisticated (broadcasting) functions\n",
        "- tools for integrating C/C++ and Fortran code\n",
        "- useful linear algebra, Fourier transform, and random number capabilities\n"
      ]
    },
    {
      "cell_type": "code",
      "execution_count": null,
      "metadata": {
        "id": "hygfw6AEDDP0"
      },
      "outputs": [],
      "source": [
        "import numpy as np # import numpy package as np (already installed)\n",
        "\n",
        "scores = [89, 56.34, 76, 89, 98]    #list\n",
        "first_arr = np.array(scores)        #convert list to numpy\n",
        "\n",
        "print(first_arr)\n",
        "print(type(first_arr))\n",
        "print(first_arr.dtype) # .dtype return the data type of the array object"
      ]
    },
    {
      "cell_type": "code",
      "execution_count": null,
      "metadata": {
        "id": "MK94kshUOM_A"
      },
      "outputs": [],
      "source": [
        "int_np = np.array([0, 1, 2, 3], dtype=np.int64)\n",
        "float_np = np.array([0, 1, 2, 3.4], dtype='float64')\n",
        "\n",
        "print(f\"int_np: {int_np}\")\n",
        "print(f\"float_np: {float_np}\")\n",
        "\n",
        "print(f\"dtype: {int_np.dtype}\")\n",
        "print(f\"dtype: {float_np.dtype}\")\n",
        "\n",
        "int2float = int_np.astype('float64')\n",
        "print(f\"int_np_dtype: {int_np.dtype}\")\n",
        "print(f\"int2float_dtype: {int2float.dtype}\")"
      ]
    },
    {
      "cell_type": "code",
      "execution_count": null,
      "metadata": {
        "id": "biUSxx3xDPc9"
      },
      "outputs": [],
      "source": [
        "# Nested lists with equal length, will be converted into a multidimensional array\n",
        "scores_1 = [[34,56,23,89],\n",
        "            [11,45,76,34]]\n",
        "\n",
        "second_arr = np.array(scores_1)\n",
        "\n",
        "print(f\"second_arr:\\n {second_arr}\\n\")\n",
        "print(f\"dimension: {second_arr.ndim}\")  #.ndim gives you the dimensions of an array.\n",
        "print(f\"shape: {second_arr.shape}\") #(number of rows, number of columns)\n",
        "print(f\"dtype: {second_arr.dtype}\")"
      ]
    },
    {
      "cell_type": "code",
      "execution_count": null,
      "metadata": {
        "id": "I5keoRN_fPZ6"
      },
      "outputs": [],
      "source": [
        "x = np.ones(10) # returns a array of ones, the same applies for np.zeros(10)\n",
        "print(x)"
      ]
    },
    {
      "cell_type": "code",
      "execution_count": null,
      "metadata": {
        "id": "8BiE5UYJSh73"
      },
      "outputs": [],
      "source": [
        "np.zeros((4,3)) # you can also mention the shape of the array"
      ]
    },
    {
      "cell_type": "code",
      "execution_count": null,
      "metadata": {
        "id": "sEcNwMnTU5UK"
      },
      "outputs": [],
      "source": [
        "np.arange(15) # returns array containing 0 to 14"
      ]
    },
    {
      "cell_type": "code",
      "execution_count": null,
      "metadata": {
        "id": "PTFcEHBpSi6O"
      },
      "outputs": [],
      "source": [
        "np.arange(3, 10) # returns array containing 3 to 9"
      ]
    },
    {
      "cell_type": "code",
      "execution_count": null,
      "metadata": {
        "id": "jGWYIKADSj7-"
      },
      "outputs": [],
      "source": [
        "np.eye(6) # Create a square N x N identity matrix (1’s on the diagonal and 0’s elsewhere)"
      ]
    },
    {
      "cell_type": "markdown",
      "metadata": {
        "id": "UG4vcA3XV4Vt"
      },
      "source": [
        "- Batch operations on data can be performed without using for loops, this is called vectorization"
      ]
    },
    {
      "cell_type": "code",
      "execution_count": null,
      "metadata": {
        "id": "R7Zv1PEXSn1n"
      },
      "outputs": [],
      "source": [
        "scores = [100, 10, 80]\n",
        "first_arr =np.array(scores)\n",
        "\n",
        "print(f\"first_arr type: {type(first_arr)}\")\n",
        "print(first_arr)\n",
        "print(first_arr + first_arr)\n",
        "print(first_arr * first_arr)\n",
        "print(first_arr - first_arr)\n",
        "print(1/(first_arr))\n",
        "print(first_arr ** 0.5)"
      ]
    },
    {
      "cell_type": "code",
      "execution_count": null,
      "metadata": {
        "id": "437iH5OfeCVt"
      },
      "outputs": [],
      "source": [
        "# List has not vectorization. Compare with it!\n",
        "scores = [100, 10, 80]\n",
        "\n",
        "print(scores + scores)\n",
        "print(scores * 3)"
      ]
    },
    {
      "cell_type": "markdown",
      "metadata": {
        "id": "3RfVRhMSV0YW"
      },
      "source": [
        "- you may want to select a subset of your data, for which Numpy array indexing is really useful"
      ]
    },
    {
      "cell_type": "code",
      "execution_count": null,
      "metadata": {
        "id": "I0miCf81SoMH"
      },
      "outputs": [],
      "source": [
        "new_arr = np.arange(0, 10)\n",
        "print(new_arr)\n",
        "print(new_arr[5])\n",
        "print(new_arr[4:9])\n",
        "new_arr[4:9] = 99 #assign sequence of values from 4 to 9 as 99\n",
        "# when list, new_arr_LIST[4:9] = [99, 99, 99, 99, 99]\n",
        "print(new_arr)"
      ]
    },
    {
      "cell_type": "markdown",
      "metadata": {
        "id": "Im8-G1U1VuGj"
      },
      "source": [
        "- A major diffence between lists and array is that, array slices are views on the original array.\n",
        "- This means that the data is not copied, and any modifications to the view will be reflected in the source"
      ]
    },
    {
      "cell_type": "code",
      "execution_count": null,
      "metadata": {
        "id": "tpF1lZPqVU1P"
      },
      "outputs": [],
      "source": [
        "new_arr = np.arange(0, 10)\n",
        "print(new_arr)\n",
        "\n",
        "modi_arr = new_arr[4:9]\n",
        "print(modi_arr)\n",
        "\n",
        "modi_arr[1] = 123456\n",
        "print(new_arr) # you can see the changes are refelected in main array.\n",
        "\n",
        "modi_arr[:]"
      ]
    },
    {
      "cell_type": "markdown",
      "metadata": {
        "id": "R7o991mtWDd3"
      },
      "source": [
        "- Arrays can be treated like matrices"
      ]
    },
    {
      "cell_type": "code",
      "execution_count": null,
      "metadata": {
        "id": "2ItXQmOYVine"
      },
      "outputs": [],
      "source": [
        "matrix_arr =np.array([[3,4,5],\n",
        "                      [6,7,8],\n",
        "                      [9,5,1]])\n",
        "print(matrix_arr)\n",
        "print(matrix_arr[1])    # first row\n",
        "print(matrix_arr[0][2]) #first row and third column\n",
        "print(matrix_arr[0,2])  # This is same as the above operation"
      ]
    },
    {
      "cell_type": "markdown",
      "metadata": {
        "id": "1F5O43SzfMKT"
      },
      "source": [
        "## [Coding Yourself]\n",
        "1. There is numpy array [3.1416, 2.7183, 6.0221, 1.4142, 1.7321, 12.3456, 654.321] which is the length of 7 and named as a `irra_num`.\n",
        "2. You make zero numpy array which is the length of 7 and named as `zero_num`.\n",
        "3. Add `irra_num` to `zero_num`.\n",
        "4. Make `zero_num` int64 dtype.\n",
        "5. Sort the numbers of `zero_num` using `numpy.sort(NUMPY_ARRAY)`, name is `sorted_num`.\n",
        "6. Print the third to fifth small number.\n",
        "7. Create a NumPy array from 0 to 6 using `numpy.arange()`, name is `arra_num`.\n",
        "8. Subtract `zero_num` by `arra_num`, name is `new_num`."
      ]
    },
    {
      "cell_type": "code",
      "execution_count": null,
      "metadata": {
        "colab": {
          "base_uri": "https://localhost:8080/"
        },
        "id": "WtPPKTmyj3l1",
        "outputId": "08dd2ec7-28b4-4af7-a894-97c7e3420e96"
      },
      "outputs": [
        {
          "output_type": "stream",
          "name": "stdout",
          "text": [
            "[ 3  6 12]\n",
            "[  -3   -1   -4    2    3   -7 -648]\n"
          ]
        }
      ],
      "source": [
        "import numpy as np\n",
        "\n",
        "# 1\n",
        "\n",
        "\n",
        "# 2\n",
        "\n",
        "\n",
        "# 3\n",
        "                                 # vectorization\n",
        "\n",
        "# 4\n",
        "\n",
        "\n",
        "# 5\n",
        "\n",
        "\n",
        "# 6\n",
        "\n",
        "\n",
        "# 7\n",
        "\n",
        "\n",
        "# 8\n",
        "\n",
        "\n",
        "print(new_num)"
      ]
    },
    {
      "cell_type": "markdown",
      "metadata": {
        "id": "oXrtJa0N85rs"
      },
      "source": [
        "# **[Step 4]**"
      ]
    },
    {
      "cell_type": "markdown",
      "metadata": {
        "id": "jMzZSGhiWMJO"
      },
      "source": [
        "### Useful functions"
      ]
    },
    {
      "cell_type": "markdown",
      "metadata": {
        "id": "ss1lBzUZWwUG"
      },
      "source": [
        "-  Reshape & Transpose"
      ]
    },
    {
      "cell_type": "code",
      "execution_count": null,
      "metadata": {
        "id": "ift5MWAMWoWn"
      },
      "outputs": [],
      "source": [
        "A = np.random.randn(3, 4) # .rand(),\n",
        "print(A)\n",
        "print(A.shape)\n",
        "A = A.transpose() # the shape has changed from 3,4 to 4,3\n",
        "print(A, A.shape)\n",
        "A = A.reshape(2,6)\n",
        "print(A, A.shape)\n",
        "A = A.reshape(6,-1)\n",
        "print(A, A.shape)"
      ]
    },
    {
      "cell_type": "markdown",
      "metadata": {
        "id": "phDGA8DpWor-"
      },
      "source": [
        "- Operations"
      ]
    },
    {
      "cell_type": "code",
      "execution_count": null,
      "metadata": {
        "id": "nPisRJhQWoyu"
      },
      "outputs": [],
      "source": [
        "A = np.arange(4)\n",
        "B = np.flip(A)\n",
        "print(A)\n",
        "print(B)\n",
        "print(np.sqrt(A)) #square root of each element\n",
        "print(np.exp(A)) #exponent of each element\n",
        "print(A-B)"
      ]
    },
    {
      "cell_type": "code",
      "execution_count": null,
      "metadata": {
        "id": "5X2AQMO_YqS2"
      },
      "outputs": [],
      "source": [
        "A = np.random.rand(3)\n",
        "print(A)\n",
        "print(A.mean()) # calculate mean\n",
        "print(A.sum()) # calculate summation of all elements\n",
        "print(A.max()) # return maximum value\n",
        "print(A.min()) # return minium value"
      ]
    },
    {
      "cell_type": "markdown",
      "metadata": {
        "id": "846_KmuBWo3-"
      },
      "source": [
        "There are more useful functions such as:\n",
        "\n",
        "- diag : Return the diagonal (or off-diagonal) elements of a square matrix as a - 1D array, or convert a 1D array into a square\n",
        "- matrix with zeros on the off-diagonal\n",
        "- trace: Compute the sum of the diagonal elements\n",
        "- det: Compute the matrix determinant\n",
        "- eig: Compute the eigenvalues and eigenvectors of a square matrix\n",
        "- pinv: Compute the pseudo-inverse of a square matrix\n",
        "- svd: Compute the singular value decomposition (SVD)\n",
        "- solve: Solve the linear system Ax = b for x, where A is a square matrix\n",
        "- lstsq: Compute the least-squares solution to y = Xb\n",
        "\n",
        "Find more at https://numpy.org/doc/stable/reference/routines.math.html\n",
        "\n",
        "You can find numerous functions which contain mathematical,"
      ]
    },
    {
      "cell_type": "markdown",
      "metadata": {
        "id": "56XBfro6nwec"
      },
      "source": [
        "## [Coding Yourself]\n",
        "1. make `new_num = np.random.randint(100, size=7)`\n",
        "2. Make (3, 7) numpy array using `new_num`, numbers of each row(length 7) is  same with `new_num`, name is `num_2d`\n",
        "3. Transpose num_2d\n",
        "4. Make num_2d square root and multiple by 2, name is `a`\n",
        "5. Make num_2d exponent and divide by 2, name is `b`\n",
        "6. Substract b by a, name is `c`\n",
        "7. Take the average of `c`, name is `d`\n",
        "8. Print the result of `d`\n"
      ]
    },
    {
      "cell_type": "code",
      "execution_count": null,
      "metadata": {
        "colab": {
          "base_uri": "https://localhost:8080/"
        },
        "id": "Z3w5I_SFq-wP",
        "outputId": "2fec1be8-3177-45a1-8785-7975bf26fe22"
      },
      "outputs": [
        {
          "name": "stdout",
          "output_type": "stream",
          "text": [
            "5.3969847175435386e+32\n"
          ]
        }
      ],
      "source": [
        "# 1\n",
        "\n",
        "\n",
        "# 2\n",
        "\n",
        "\n",
        "\n",
        "# 3\n",
        "\n",
        "\n",
        "# 4\n",
        "\n",
        "\n",
        "# 5\n",
        "\n",
        "\n",
        "# 6\n",
        "\n",
        "\n",
        "# 7\n",
        "\n",
        "\n",
        "# 8\n",
        "print(d)"
      ]
    },
    {
      "cell_type": "markdown",
      "metadata": {
        "id": "iZrA05_I3MlH"
      },
      "source": [
        "#[Check Attendance]"
      ]
    },
    {
      "cell_type": "code",
      "execution_count": null,
      "metadata": {
        "colab": {
          "base_uri": "https://localhost:8080/"
        },
        "id": "CHKC8_mQrFH5",
        "outputId": "3b280db0-e241-490e-a5c0-23b0880081eb"
      },
      "outputs": [
        {
          "output_type": "stream",
          "name": "stdout",
          "text": [
            "24031319:46:06\n"
          ]
        }
      ],
      "source": [
        "from datetime import datetime\n",
        "\n",
        "# write your student id\n",
        "YOUR_STUDENT_ID = '20239999' # example YOUR_STUDENT_ID = '2022XXXX'\n",
        "\n",
        "time = datetime.now().strftime('%y%m%d%X')\n",
        "print(time)\n",
        "\n",
        "\n",
        "with open(f\"/content/gdrive/MyDrive/For_Student/CodingLecture/03.14.CodingLecture01/students_upload/{YOUR_STUDENT_ID}_{time}.txt\", \"w\") as file:\n",
        "  file.write('d')\n",
        "  file.close()"
      ]
    },
    {
      "cell_type": "code",
      "source": [],
      "metadata": {
        "id": "E6_DohHEWYhI"
      },
      "execution_count": null,
      "outputs": []
    }
  ],
  "metadata": {
    "colab": {
      "collapsed_sections": [
        "iZrA05_I3MlH"
      ],
      "provenance": [],
      "include_colab_link": true
    },
    "kernelspec": {
      "display_name": "Python 3",
      "name": "python3"
    },
    "language_info": {
      "name": "python"
    },
    "pycharm": {
      "stem_cell": {
        "cell_type": "raw",
        "metadata": {
          "collapsed": false
        },
        "source": []
      }
    }
  },
  "nbformat": 4,
  "nbformat_minor": 0
}